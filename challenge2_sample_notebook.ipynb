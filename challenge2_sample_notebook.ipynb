{
  "cells": [
    {
      "attachments": {},
      "cell_type": "markdown",
      "metadata": {},
      "source": [
        "### Giga Spatial - Hackathon Sample Notebook Document\n",
        " \n",
        " **Objective**: Load and process data from multiple sources with different resolutions for a CCRI-DRM country. This notebook demonstrates how to:\n",
        "\n",
        " - Load administrative boundaries from UNICEF GeoRepo\n",
        " - Fetch school location data from Giga API \n",
        " - Process GHSL datasets for population and built-up area analysis\n",
        " - Access MODIS land surface temperature data\n",
        " - Generate zonal statistics by combining multiple data sources\n",
        " - Visualize results and geodataframes\n",
        "\n",
        " **Countries**: Rwanda and Kenya"
      ]
    },
    {
      "attachments": {},
      "cell_type": "markdown",
      "metadata": {},
      "source": [
        "# Imports"
      ]
    },
    {
      "cell_type": "code",
      "execution_count": 1,
      "metadata": {},
      "outputs": [],
      "source": [
        "import sys, os"
      ]
    },
    {
      "cell_type": "code",
      "execution_count": 2,
      "metadata": {},
      "outputs": [
        {
          "name": "stdout",
          "output_type": "stream",
          "text": [
            "Requirement already satisfied: giga-spatial in ./venv/lib/python3.10/site-packages (0.6.3)\n",
            "Requirement already satisfied: pydantic>=2.10.6 in ./venv/lib/python3.10/site-packages (from giga-spatial) (2.11.7)\n",
            "Requirement already satisfied: rasterio==1.3.10 in ./venv/lib/python3.10/site-packages (from giga-spatial) (1.3.10)\n",
            "Requirement already satisfied: geopandas>=1.0.1 in ./venv/lib/python3.10/site-packages (from giga-spatial) (1.1.0)\n",
            "Requirement already satisfied: tqdm==4.65.0 in ./venv/lib/python3.10/site-packages (from giga-spatial) (4.65.0)\n",
            "Requirement already satisfied: pydantic-settings>=2.7.1 in ./venv/lib/python3.10/site-packages (from giga-spatial) (2.9.1)\n",
            "Requirement already satisfied: bs4==0.0.2 in ./venv/lib/python3.10/site-packages (from giga-spatial) (0.0.2)\n",
            "Requirement already satisfied: Shapely>=2.0.7 in ./venv/lib/python3.10/site-packages (from giga-spatial) (2.1.1)\n",
            "Requirement already satisfied: hdx-python-api>=6.3.8 in ./venv/lib/python3.10/site-packages (from giga-spatial) (6.4.4)\n",
            "Requirement already satisfied: mercantile==1.2.1 in ./venv/lib/python3.10/site-packages (from giga-spatial) (1.2.1)\n",
            "Requirement already satisfied: scipy==1.15.1 in ./venv/lib/python3.10/site-packages (from giga-spatial) (1.15.1)\n",
            "Requirement already satisfied: Requests==2.32.3 in ./venv/lib/python3.10/site-packages (from giga-spatial) (2.32.3)\n",
            "Requirement already satisfied: OWSLib==0.32.1 in ./venv/lib/python3.10/site-packages (from giga-spatial) (0.32.1)\n",
            "Requirement already satisfied: azure-storage-blob>=12.22.0 in ./venv/lib/python3.10/site-packages (from giga-spatial) (12.25.1)\n",
            "Requirement already satisfied: duckdb==1.2.0 in ./venv/lib/python3.10/site-packages (from giga-spatial) (1.2.0)\n",
            "Requirement already satisfied: numpy>=2.2.2 in ./venv/lib/python3.10/site-packages (from giga-spatial) (2.2.6)\n",
            "Requirement already satisfied: delta_sharing==1.2.0 in ./venv/lib/python3.10/site-packages (from giga-spatial) (1.2.0)\n",
            "Requirement already satisfied: pandas>=2.2.3 in ./venv/lib/python3.10/site-packages (from giga-spatial) (2.3.0)\n",
            "Requirement already satisfied: pycountry==24.6.1 in ./venv/lib/python3.10/site-packages (from giga-spatial) (24.6.1)\n",
            "Requirement already satisfied: beautifulsoup4 in ./venv/lib/python3.10/site-packages (from bs4==0.0.2->giga-spatial) (4.13.4)\n",
            "Requirement already satisfied: aiohttp in ./venv/lib/python3.10/site-packages (from delta_sharing==1.2.0->giga-spatial) (3.12.13)\n",
            "Requirement already satisfied: yarl>=1.6.0 in ./venv/lib/python3.10/site-packages (from delta_sharing==1.2.0->giga-spatial) (1.20.1)\n",
            "Requirement already satisfied: pyarrow>=16.1.0 in ./venv/lib/python3.10/site-packages (from delta_sharing==1.2.0->giga-spatial) (20.0.0)\n",
            "Requirement already satisfied: delta-kernel-rust-sharing-wrapper in ./venv/lib/python3.10/site-packages (from delta_sharing==1.2.0->giga-spatial) (0.2.2)\n",
            "Requirement already satisfied: fsspec>=0.7.4 in ./venv/lib/python3.10/site-packages (from delta_sharing==1.2.0->giga-spatial) (2025.5.1)\n",
            "Requirement already satisfied: click>=3.0 in ./venv/lib/python3.10/site-packages (from mercantile==1.2.1->giga-spatial) (8.2.1)\n",
            "Requirement already satisfied: pyyaml in ./venv/lib/python3.10/site-packages (from OWSLib==0.32.1->giga-spatial) (6.0.2)\n",
            "Requirement already satisfied: lxml in ./venv/lib/python3.10/site-packages (from OWSLib==0.32.1->giga-spatial) (5.4.0)\n",
            "Requirement already satisfied: python-dateutil in ./venv/lib/python3.10/site-packages (from OWSLib==0.32.1->giga-spatial) (2.9.0.post0)\n",
            "Requirement already satisfied: certifi in ./venv/lib/python3.10/site-packages (from rasterio==1.3.10->giga-spatial) (2025.6.15)\n",
            "Requirement already satisfied: click-plugins in ./venv/lib/python3.10/site-packages (from rasterio==1.3.10->giga-spatial) (1.1.1)\n",
            "Requirement already satisfied: snuggs>=1.4.1 in ./venv/lib/python3.10/site-packages (from rasterio==1.3.10->giga-spatial) (1.4.7)\n",
            "Requirement already satisfied: setuptools in ./venv/lib/python3.10/site-packages (from rasterio==1.3.10->giga-spatial) (65.5.0)\n",
            "Requirement already satisfied: cligj>=0.5 in ./venv/lib/python3.10/site-packages (from rasterio==1.3.10->giga-spatial) (0.7.2)\n",
            "Requirement already satisfied: affine in ./venv/lib/python3.10/site-packages (from rasterio==1.3.10->giga-spatial) (2.4.0)\n",
            "Requirement already satisfied: attrs in ./venv/lib/python3.10/site-packages (from rasterio==1.3.10->giga-spatial) (25.3.0)\n",
            "Requirement already satisfied: idna<4,>=2.5 in ./venv/lib/python3.10/site-packages (from Requests==2.32.3->giga-spatial) (3.10)\n",
            "Requirement already satisfied: charset-normalizer<4,>=2 in ./venv/lib/python3.10/site-packages (from Requests==2.32.3->giga-spatial) (3.4.2)\n",
            "Requirement already satisfied: urllib3<3,>=1.21.1 in ./venv/lib/python3.10/site-packages (from Requests==2.32.3->giga-spatial) (2.4.0)\n",
            "Requirement already satisfied: isodate>=0.6.1 in ./venv/lib/python3.10/site-packages (from azure-storage-blob>=12.22.0->giga-spatial) (0.7.2)\n",
            "Requirement already satisfied: typing-extensions>=4.6.0 in ./venv/lib/python3.10/site-packages (from azure-storage-blob>=12.22.0->giga-spatial) (4.14.0)\n",
            "Requirement already satisfied: azure-core>=1.30.0 in ./venv/lib/python3.10/site-packages (from azure-storage-blob>=12.22.0->giga-spatial) (1.34.0)\n",
            "Requirement already satisfied: cryptography>=2.1.4 in ./venv/lib/python3.10/site-packages (from azure-storage-blob>=12.22.0->giga-spatial) (45.0.4)\n",
            "Requirement already satisfied: pyproj>=3.5.0 in ./venv/lib/python3.10/site-packages (from geopandas>=1.0.1->giga-spatial) (3.7.1)\n",
            "Requirement already satisfied: pyogrio>=0.7.2 in ./venv/lib/python3.10/site-packages (from geopandas>=1.0.1->giga-spatial) (0.11.0)\n",
            "Requirement already satisfied: packaging in ./venv/lib/python3.10/site-packages (from geopandas>=1.0.1->giga-spatial) (25.0)\n",
            "Requirement already satisfied: hdx-python-country>=3.9.4 in ./venv/lib/python3.10/site-packages (from hdx-python-api>=6.3.8->giga-spatial) (3.9.4)\n",
            "Requirement already satisfied: makefun in ./venv/lib/python3.10/site-packages (from hdx-python-api>=6.3.8->giga-spatial) (1.16.0)\n",
            "Requirement already satisfied: quantulum3 in ./venv/lib/python3.10/site-packages (from hdx-python-api>=6.3.8->giga-spatial) (0.9.2)\n",
            "Requirement already satisfied: libhxl>=5.2.2 in ./venv/lib/python3.10/site-packages (from hdx-python-api>=6.3.8->giga-spatial) (5.2.2)\n",
            "Requirement already satisfied: email-validator in ./venv/lib/python3.10/site-packages (from hdx-python-api>=6.3.8->giga-spatial) (2.2.0)\n",
            "Requirement already satisfied: defopt>=6.4.0 in ./venv/lib/python3.10/site-packages (from hdx-python-api>=6.3.8->giga-spatial) (7.0.0)\n",
            "Requirement already satisfied: hdx-python-utilities>=3.8.7 in ./venv/lib/python3.10/site-packages (from hdx-python-api>=6.3.8->giga-spatial) (3.8.7)\n",
            "Requirement already satisfied: ckanapi>=4.8 in ./venv/lib/python3.10/site-packages (from hdx-python-api>=6.3.8->giga-spatial) (4.8)\n",
            "Requirement already satisfied: tzdata>=2022.7 in ./venv/lib/python3.10/site-packages (from pandas>=2.2.3->giga-spatial) (2025.2)\n",
            "Requirement already satisfied: pytz>=2020.1 in ./venv/lib/python3.10/site-packages (from pandas>=2.2.3->giga-spatial) (2025.2)\n",
            "Requirement already satisfied: annotated-types>=0.6.0 in ./venv/lib/python3.10/site-packages (from pydantic>=2.10.6->giga-spatial) (0.7.0)\n",
            "Requirement already satisfied: pydantic-core==2.33.2 in ./venv/lib/python3.10/site-packages (from pydantic>=2.10.6->giga-spatial) (2.33.2)\n",
            "Requirement already satisfied: typing-inspection>=0.4.0 in ./venv/lib/python3.10/site-packages (from pydantic>=2.10.6->giga-spatial) (0.4.1)\n",
            "Requirement already satisfied: python-dotenv>=0.21.0 in ./venv/lib/python3.10/site-packages (from pydantic-settings>=2.7.1->giga-spatial) (1.1.0)\n",
            "Requirement already satisfied: six>=1.11.0 in ./venv/lib/python3.10/site-packages (from azure-core>=1.30.0->azure-storage-blob>=12.22.0->giga-spatial) (1.17.0)\n",
            "Requirement already satisfied: simplejson in ./venv/lib/python3.10/site-packages (from ckanapi>=4.8->hdx-python-api>=6.3.8->giga-spatial) (3.20.1)\n",
            "Requirement already satisfied: python-slugify>=1.0 in ./venv/lib/python3.10/site-packages (from ckanapi>=4.8->hdx-python-api>=6.3.8->giga-spatial) (8.0.4)\n",
            "Requirement already satisfied: docopt in ./venv/lib/python3.10/site-packages (from ckanapi>=4.8->hdx-python-api>=6.3.8->giga-spatial) (0.6.2)\n",
            "Requirement already satisfied: cffi>=1.14 in ./venv/lib/python3.10/site-packages (from cryptography>=2.1.4->azure-storage-blob>=12.22.0->giga-spatial) (1.17.1)\n",
            "Requirement already satisfied: docutils>=0.12 in ./venv/lib/python3.10/site-packages (from defopt>=6.4.0->hdx-python-api>=6.3.8->giga-spatial) (0.21.2)\n",
            "Requirement already satisfied: sphinxcontrib-napoleon>=0.7.0 in ./venv/lib/python3.10/site-packages (from defopt>=6.4.0->hdx-python-api>=6.3.8->giga-spatial) (0.7)\n",
            "Requirement already satisfied: tenacity in ./venv/lib/python3.10/site-packages (from hdx-python-country>=3.9.4->hdx-python-api>=6.3.8->giga-spatial) (9.1.2)\n",
            "Requirement already satisfied: requests-file in ./venv/lib/python3.10/site-packages (from hdx-python-utilities>=3.8.7->hdx-python-api>=6.3.8->giga-spatial) (2.1.0)\n",
            "Requirement already satisfied: xlsx2csv in ./venv/lib/python3.10/site-packages (from hdx-python-utilities>=3.8.7->hdx-python-api>=6.3.8->giga-spatial) (0.8.4)\n",
            "Requirement already satisfied: xlwt>=1.3.0 in ./venv/lib/python3.10/site-packages (from hdx-python-utilities>=3.8.7->hdx-python-api>=6.3.8->giga-spatial) (1.3.0)\n",
            "Requirement already satisfied: loguru in ./venv/lib/python3.10/site-packages (from hdx-python-utilities>=3.8.7->hdx-python-api>=6.3.8->giga-spatial) (0.7.3)\n",
            "Requirement already satisfied: openpyxl>=3.1.2 in ./venv/lib/python3.10/site-packages (from hdx-python-utilities>=3.8.7->hdx-python-api>=6.3.8->giga-spatial) (3.1.5)\n",
            "Requirement already satisfied: xlrd>=2.0.1 in ./venv/lib/python3.10/site-packages (from hdx-python-utilities>=3.8.7->hdx-python-api>=6.3.8->giga-spatial) (2.0.2)\n",
            "Requirement already satisfied: ratelimit in ./venv/lib/python3.10/site-packages (from hdx-python-utilities>=3.8.7->hdx-python-api>=6.3.8->giga-spatial) (2.2.1)\n",
            "Requirement already satisfied: tableschema-to-template>=0.0.13 in ./venv/lib/python3.10/site-packages (from hdx-python-utilities>=3.8.7->hdx-python-api>=6.3.8->giga-spatial) (0.0.13)\n",
            "Requirement already satisfied: ruamel-yaml in ./venv/lib/python3.10/site-packages (from hdx-python-utilities>=3.8.7->hdx-python-api>=6.3.8->giga-spatial) (0.18.14)\n",
            "Requirement already satisfied: jsonlines>=4.0.0 in ./venv/lib/python3.10/site-packages (from hdx-python-utilities>=3.8.7->hdx-python-api>=6.3.8->giga-spatial) (4.0.0)\n",
            "Requirement already satisfied: ijson>=3.2.3 in ./venv/lib/python3.10/site-packages (from hdx-python-utilities>=3.8.7->hdx-python-api>=6.3.8->giga-spatial) (3.4.0)\n",
            "Requirement already satisfied: frictionless>=5.18.0 in ./venv/lib/python3.10/site-packages (from hdx-python-utilities>=3.8.7->hdx-python-api>=6.3.8->giga-spatial) (5.18.1)\n",
            "Requirement already satisfied: pyphonetics in ./venv/lib/python3.10/site-packages (from hdx-python-utilities>=3.8.7->hdx-python-api>=6.3.8->giga-spatial) (0.5.3)\n",
            "Requirement already satisfied: jsonpath_ng in ./venv/lib/python3.10/site-packages (from libhxl>=5.2.2->hdx-python-api>=6.3.8->giga-spatial) (1.7.0)\n",
            "Requirement already satisfied: ply in ./venv/lib/python3.10/site-packages (from libhxl>=5.2.2->hdx-python-api>=6.3.8->giga-spatial) (3.11)\n",
            "Requirement already satisfied: python-io-wrapper>=0.2 in ./venv/lib/python3.10/site-packages (from libhxl>=5.2.2->hdx-python-api>=6.3.8->giga-spatial) (0.3.1)\n",
            "Requirement already satisfied: structlog in ./venv/lib/python3.10/site-packages (from libhxl>=5.2.2->hdx-python-api>=6.3.8->giga-spatial) (25.4.0)\n",
            "Requirement already satisfied: unidecode in ./venv/lib/python3.10/site-packages (from libhxl>=5.2.2->hdx-python-api>=6.3.8->giga-spatial) (1.4.0)\n",
            "Requirement already satisfied: wheel in ./venv/lib/python3.10/site-packages (from libhxl>=5.2.2->hdx-python-api>=6.3.8->giga-spatial) (0.45.1)\n",
            "Requirement already satisfied: xlrd3>=1.1.0 in ./venv/lib/python3.10/site-packages (from libhxl>=5.2.2->hdx-python-api>=6.3.8->giga-spatial) (1.1.0)\n",
            "Requirement already satisfied: pyparsing>=2.1.6 in ./venv/lib/python3.10/site-packages (from snuggs>=1.4.1->rasterio==1.3.10->giga-spatial) (3.2.3)\n",
            "Requirement already satisfied: propcache>=0.2.1 in ./venv/lib/python3.10/site-packages (from yarl>=1.6.0->delta_sharing==1.2.0->giga-spatial) (0.3.2)\n",
            "Requirement already satisfied: multidict>=4.0 in ./venv/lib/python3.10/site-packages (from yarl>=1.6.0->delta_sharing==1.2.0->giga-spatial) (6.4.4)\n",
            "Requirement already satisfied: async-timeout<6.0,>=4.0 in ./venv/lib/python3.10/site-packages (from aiohttp->delta_sharing==1.2.0->giga-spatial) (5.0.1)\n",
            "Requirement already satisfied: aiosignal>=1.1.2 in ./venv/lib/python3.10/site-packages (from aiohttp->delta_sharing==1.2.0->giga-spatial) (1.3.2)\n",
            "Requirement already satisfied: frozenlist>=1.1.1 in ./venv/lib/python3.10/site-packages (from aiohttp->delta_sharing==1.2.0->giga-spatial) (1.7.0)\n",
            "Requirement already satisfied: aiohappyeyeballs>=2.5.0 in ./venv/lib/python3.10/site-packages (from aiohttp->delta_sharing==1.2.0->giga-spatial) (2.6.1)\n",
            "Requirement already satisfied: soupsieve>1.2 in ./venv/lib/python3.10/site-packages (from beautifulsoup4->bs4==0.0.2->giga-spatial) (2.7)\n",
            "Requirement already satisfied: dnspython>=2.0.0 in ./venv/lib/python3.10/site-packages (from email-validator->hdx-python-api>=6.3.8->giga-spatial) (2.7.0)\n",
            "Requirement already satisfied: inflect in ./venv/lib/python3.10/site-packages (from quantulum3->hdx-python-api>=6.3.8->giga-spatial) (7.5.0)\n",
            "Requirement already satisfied: num2words in ./venv/lib/python3.10/site-packages (from quantulum3->hdx-python-api>=6.3.8->giga-spatial) (0.5.14)\n",
            "Requirement already satisfied: pycparser in ./venv/lib/python3.10/site-packages (from cffi>=1.14->cryptography>=2.1.4->azure-storage-blob>=12.22.0->giga-spatial) (2.22)\n",
            "Requirement already satisfied: tabulate>=0.8.10 in ./venv/lib/python3.10/site-packages (from frictionless>=5.18.0->hdx-python-utilities>=3.8.7->hdx-python-api>=6.3.8->giga-spatial) (0.9.0)\n",
            "Requirement already satisfied: chardet>=3.0 in ./venv/lib/python3.10/site-packages (from frictionless>=5.18.0->hdx-python-utilities>=3.8.7->hdx-python-api>=6.3.8->giga-spatial) (5.2.0)\n",
            "Requirement already satisfied: validators>=0.18 in ./venv/lib/python3.10/site-packages (from frictionless>=5.18.0->hdx-python-utilities>=3.8.7->hdx-python-api>=6.3.8->giga-spatial) (0.35.0)\n",
            "Requirement already satisfied: rfc3986>=1.4 in ./venv/lib/python3.10/site-packages (from frictionless>=5.18.0->hdx-python-utilities>=3.8.7->hdx-python-api>=6.3.8->giga-spatial) (2.0.0)\n",
            "Requirement already satisfied: simpleeval>=0.9.11 in ./venv/lib/python3.10/site-packages (from frictionless>=5.18.0->hdx-python-utilities>=3.8.7->hdx-python-api>=6.3.8->giga-spatial) (1.0.3)\n",
            "Requirement already satisfied: typer>=0.12 in ./venv/lib/python3.10/site-packages (from frictionless>=5.18.0->hdx-python-utilities>=3.8.7->hdx-python-api>=6.3.8->giga-spatial) (0.16.0)\n",
            "Requirement already satisfied: marko>=1.0 in ./venv/lib/python3.10/site-packages (from frictionless>=5.18.0->hdx-python-utilities>=3.8.7->hdx-python-api>=6.3.8->giga-spatial) (2.1.4)\n",
            "Requirement already satisfied: petl>=1.6 in ./venv/lib/python3.10/site-packages (from frictionless>=5.18.0->hdx-python-utilities>=3.8.7->hdx-python-api>=6.3.8->giga-spatial) (1.7.16)\n",
            "Requirement already satisfied: humanize>=4.2 in ./venv/lib/python3.10/site-packages (from frictionless>=5.18.0->hdx-python-utilities>=3.8.7->hdx-python-api>=6.3.8->giga-spatial) (4.12.3)\n",
            "Requirement already satisfied: jinja2>=3.0 in ./venv/lib/python3.10/site-packages (from frictionless>=5.18.0->hdx-python-utilities>=3.8.7->hdx-python-api>=6.3.8->giga-spatial) (3.1.6)\n",
            "Requirement already satisfied: jsonschema>=4.20 in ./venv/lib/python3.10/site-packages (from frictionless>=5.18.0->hdx-python-utilities>=3.8.7->hdx-python-api>=6.3.8->giga-spatial) (4.24.0)\n",
            "Requirement already satisfied: et-xmlfile in ./venv/lib/python3.10/site-packages (from openpyxl>=3.1.2->hdx-python-utilities>=3.8.7->hdx-python-api>=6.3.8->giga-spatial) (2.0.0)\n",
            "Requirement already satisfied: text-unidecode>=1.3 in ./venv/lib/python3.10/site-packages (from python-slugify>=1.0->ckanapi>=4.8->hdx-python-api>=6.3.8->giga-spatial) (1.3)\n",
            "Requirement already satisfied: pockets>=0.3 in ./venv/lib/python3.10/site-packages (from sphinxcontrib-napoleon>=0.7.0->defopt>=6.4.0->hdx-python-api>=6.3.8->giga-spatial) (0.9.1)\n",
            "Requirement already satisfied: xlsxwriter>=1.2.8 in ./venv/lib/python3.10/site-packages (from tableschema-to-template>=0.0.13->hdx-python-utilities>=3.8.7->hdx-python-api>=6.3.8->giga-spatial) (3.2.3)\n",
            "Requirement already satisfied: more_itertools>=8.5.0 in ./venv/lib/python3.10/site-packages (from inflect->quantulum3->hdx-python-api>=6.3.8->giga-spatial) (10.7.0)\n",
            "Requirement already satisfied: typeguard>=4.0.1 in ./venv/lib/python3.10/site-packages (from inflect->quantulum3->hdx-python-api>=6.3.8->giga-spatial) (4.4.3)\n",
            "Requirement already satisfied: ruamel.yaml.clib>=0.2.7 in ./venv/lib/python3.10/site-packages (from ruamel-yaml->hdx-python-utilities>=3.8.7->hdx-python-api>=6.3.8->giga-spatial) (0.2.12)\n",
            "Requirement already satisfied: MarkupSafe>=2.0 in ./venv/lib/python3.10/site-packages (from jinja2>=3.0->frictionless>=5.18.0->hdx-python-utilities>=3.8.7->hdx-python-api>=6.3.8->giga-spatial) (3.0.2)\n",
            "Requirement already satisfied: referencing>=0.28.4 in ./venv/lib/python3.10/site-packages (from jsonschema>=4.20->frictionless>=5.18.0->hdx-python-utilities>=3.8.7->hdx-python-api>=6.3.8->giga-spatial) (0.36.2)\n",
            "Requirement already satisfied: rpds-py>=0.7.1 in ./venv/lib/python3.10/site-packages (from jsonschema>=4.20->frictionless>=5.18.0->hdx-python-utilities>=3.8.7->hdx-python-api>=6.3.8->giga-spatial) (0.25.1)\n",
            "Requirement already satisfied: jsonschema-specifications>=2023.03.6 in ./venv/lib/python3.10/site-packages (from jsonschema>=4.20->frictionless>=5.18.0->hdx-python-utilities>=3.8.7->hdx-python-api>=6.3.8->giga-spatial) (2025.4.1)\n",
            "Requirement already satisfied: rich>=10.11.0 in ./venv/lib/python3.10/site-packages (from typer>=0.12->frictionless>=5.18.0->hdx-python-utilities>=3.8.7->hdx-python-api>=6.3.8->giga-spatial) (14.0.0)\n",
            "Requirement already satisfied: shellingham>=1.3.0 in ./venv/lib/python3.10/site-packages (from typer>=0.12->frictionless>=5.18.0->hdx-python-utilities>=3.8.7->hdx-python-api>=6.3.8->giga-spatial) (1.5.4)\n",
            "Requirement already satisfied: pygments<3.0.0,>=2.13.0 in ./venv/lib/python3.10/site-packages (from rich>=10.11.0->typer>=0.12->frictionless>=5.18.0->hdx-python-utilities>=3.8.7->hdx-python-api>=6.3.8->giga-spatial) (2.19.1)\n",
            "Requirement already satisfied: markdown-it-py>=2.2.0 in ./venv/lib/python3.10/site-packages (from rich>=10.11.0->typer>=0.12->frictionless>=5.18.0->hdx-python-utilities>=3.8.7->hdx-python-api>=6.3.8->giga-spatial) (3.0.0)\n",
            "Requirement already satisfied: mdurl~=0.1 in ./venv/lib/python3.10/site-packages (from markdown-it-py>=2.2.0->rich>=10.11.0->typer>=0.12->frictionless>=5.18.0->hdx-python-utilities>=3.8.7->hdx-python-api>=6.3.8->giga-spatial) (0.1.2)\n",
            "\n",
            "\u001b[1m[\u001b[0m\u001b[34;49mnotice\u001b[0m\u001b[1;39;49m]\u001b[0m\u001b[39;49m A new release of pip is available: \u001b[0m\u001b[31;49m23.0.1\u001b[0m\u001b[39;49m -> \u001b[0m\u001b[32;49m25.1.1\u001b[0m\n",
            "\u001b[1m[\u001b[0m\u001b[34;49mnotice\u001b[0m\u001b[1;39;49m]\u001b[0m\u001b[39;49m To update, run: \u001b[0m\u001b[32;49mpip install --upgrade pip\u001b[0m\n"
          ]
        }
      ],
      "source": [
        "!{sys.executable} -m pip install giga-spatial --upgrade"
      ]
    },
    {
      "cell_type": "code",
      "execution_count": 3,
      "metadata": {},
      "outputs": [
        {
          "data": {
            "text/plain": [
              "False"
            ]
          },
          "execution_count": 3,
          "metadata": {},
          "output_type": "execute_result"
        }
      ],
      "source": [
        "\n",
        "### Not needed with pip install - path to giga-spatial if you cloned it and are going to extend it\n",
        "sys.path.append(\"path_to_giga_spatial/\")\n",
        "###\n",
        "from dotenv import load_dotenv\n",
        "load_dotenv()"
      ]
    },
    {
      "cell_type": "code",
      "execution_count": 4,
      "metadata": {},
      "outputs": [],
      "source": [
        "from gigaspatial.config import config\n",
        "from gigaspatial.handlers import AdminBoundaries, GigaSchoolLocationFetcher, GHSLDataHandler\n",
        "from gigaspatial.generators import GeometryBasedZonalViewGenerator\n",
        "from gigaspatial.processing import TifProcessor"
      ]
    },
    {
      "attachments": {},
      "cell_type": "markdown",
      "metadata": {},
      "source": [
        "# Example 1 - Map GHSL built_s and smod"
      ]
    },
    {
      "cell_type": "code",
      "execution_count": 5,
      "metadata": {},
      "outputs": [],
      "source": [
        "country_code = \"TJK\""
      ]
    },
    {
      "attachments": {},
      "cell_type": "markdown",
      "metadata": {},
      "source": [
        "## Our zones will be admin 2's"
      ]
    },
    {
      "cell_type": "code",
      "execution_count": 6,
      "metadata": {},
      "outputs": [
        {
          "name": "stderr",
          "output_type": "stream",
          "text": [
            "INFO        AdminBoundaries 2025-06-16 14:50:39,339       : Creating AdminBoundaries instance. Country: TJK, admin level: 2, data_store provided: False, path provided: False\n",
            "WARNING     AdminBoundaries 2025-06-16 14:50:39,340       : GeoRepo initialization failed: API Key is required. Provide it as a parameter or set GEOREPO_API_KEY environment variable.. Falling back to GADM.\n",
            "INFO        AdminBoundaries 2025-06-16 14:50:39,340       : Loading GADM data for country: TJK, admin level: 2 from URL: https://geodata.ucdavis.edu/gadm/gadm4.1/json/gadm41_TJK_2.json\n"
          ]
        },
        {
          "ename": "URLError",
          "evalue": "<urlopen error [Errno 54] Connection reset by peer>",
          "output_type": "error",
          "traceback": [
            "\u001b[0;31m---------------------------------------------------------------------------\u001b[0m",
            "\u001b[0;31mConnectionResetError\u001b[0m                      Traceback (most recent call last)",
            "File \u001b[0;32m~/.pyenv/versions/3.10.14/lib/python3.10/urllib/request.py:1348\u001b[0m, in \u001b[0;36mAbstractHTTPHandler.do_open\u001b[0;34m(self, http_class, req, **http_conn_args)\u001b[0m\n\u001b[1;32m   1347\u001b[0m \u001b[38;5;28;01mtry\u001b[39;00m:\n\u001b[0;32m-> 1348\u001b[0m     \u001b[43mh\u001b[49m\u001b[38;5;241;43m.\u001b[39;49m\u001b[43mrequest\u001b[49m\u001b[43m(\u001b[49m\u001b[43mreq\u001b[49m\u001b[38;5;241;43m.\u001b[39;49m\u001b[43mget_method\u001b[49m\u001b[43m(\u001b[49m\u001b[43m)\u001b[49m\u001b[43m,\u001b[49m\u001b[43m \u001b[49m\u001b[43mreq\u001b[49m\u001b[38;5;241;43m.\u001b[39;49m\u001b[43mselector\u001b[49m\u001b[43m,\u001b[49m\u001b[43m \u001b[49m\u001b[43mreq\u001b[49m\u001b[38;5;241;43m.\u001b[39;49m\u001b[43mdata\u001b[49m\u001b[43m,\u001b[49m\u001b[43m \u001b[49m\u001b[43mheaders\u001b[49m\u001b[43m,\u001b[49m\n\u001b[1;32m   1349\u001b[0m \u001b[43m              \u001b[49m\u001b[43mencode_chunked\u001b[49m\u001b[38;5;241;43m=\u001b[39;49m\u001b[43mreq\u001b[49m\u001b[38;5;241;43m.\u001b[39;49m\u001b[43mhas_header\u001b[49m\u001b[43m(\u001b[49m\u001b[38;5;124;43m'\u001b[39;49m\u001b[38;5;124;43mTransfer-encoding\u001b[39;49m\u001b[38;5;124;43m'\u001b[39;49m\u001b[43m)\u001b[49m\u001b[43m)\u001b[49m\n\u001b[1;32m   1350\u001b[0m \u001b[38;5;28;01mexcept\u001b[39;00m \u001b[38;5;167;01mOSError\u001b[39;00m \u001b[38;5;28;01mas\u001b[39;00m err: \u001b[38;5;66;03m# timeout error\u001b[39;00m\n",
            "File \u001b[0;32m~/.pyenv/versions/3.10.14/lib/python3.10/http/client.py:1283\u001b[0m, in \u001b[0;36mHTTPConnection.request\u001b[0;34m(self, method, url, body, headers, encode_chunked)\u001b[0m\n\u001b[1;32m   1282\u001b[0m \u001b[38;5;250m\u001b[39m\u001b[38;5;124;03m\"\"\"Send a complete request to the server.\"\"\"\u001b[39;00m\n\u001b[0;32m-> 1283\u001b[0m \u001b[38;5;28;43mself\u001b[39;49m\u001b[38;5;241;43m.\u001b[39;49m\u001b[43m_send_request\u001b[49m\u001b[43m(\u001b[49m\u001b[43mmethod\u001b[49m\u001b[43m,\u001b[49m\u001b[43m \u001b[49m\u001b[43murl\u001b[49m\u001b[43m,\u001b[49m\u001b[43m \u001b[49m\u001b[43mbody\u001b[49m\u001b[43m,\u001b[49m\u001b[43m \u001b[49m\u001b[43mheaders\u001b[49m\u001b[43m,\u001b[49m\u001b[43m \u001b[49m\u001b[43mencode_chunked\u001b[49m\u001b[43m)\u001b[49m\n",
            "File \u001b[0;32m~/.pyenv/versions/3.10.14/lib/python3.10/http/client.py:1329\u001b[0m, in \u001b[0;36mHTTPConnection._send_request\u001b[0;34m(self, method, url, body, headers, encode_chunked)\u001b[0m\n\u001b[1;32m   1328\u001b[0m     body \u001b[38;5;241m=\u001b[39m _encode(body, \u001b[38;5;124m'\u001b[39m\u001b[38;5;124mbody\u001b[39m\u001b[38;5;124m'\u001b[39m)\n\u001b[0;32m-> 1329\u001b[0m \u001b[38;5;28;43mself\u001b[39;49m\u001b[38;5;241;43m.\u001b[39;49m\u001b[43mendheaders\u001b[49m\u001b[43m(\u001b[49m\u001b[43mbody\u001b[49m\u001b[43m,\u001b[49m\u001b[43m \u001b[49m\u001b[43mencode_chunked\u001b[49m\u001b[38;5;241;43m=\u001b[39;49m\u001b[43mencode_chunked\u001b[49m\u001b[43m)\u001b[49m\n",
            "File \u001b[0;32m~/.pyenv/versions/3.10.14/lib/python3.10/http/client.py:1278\u001b[0m, in \u001b[0;36mHTTPConnection.endheaders\u001b[0;34m(self, message_body, encode_chunked)\u001b[0m\n\u001b[1;32m   1277\u001b[0m     \u001b[38;5;28;01mraise\u001b[39;00m CannotSendHeader()\n\u001b[0;32m-> 1278\u001b[0m \u001b[38;5;28;43mself\u001b[39;49m\u001b[38;5;241;43m.\u001b[39;49m\u001b[43m_send_output\u001b[49m\u001b[43m(\u001b[49m\u001b[43mmessage_body\u001b[49m\u001b[43m,\u001b[49m\u001b[43m \u001b[49m\u001b[43mencode_chunked\u001b[49m\u001b[38;5;241;43m=\u001b[39;49m\u001b[43mencode_chunked\u001b[49m\u001b[43m)\u001b[49m\n",
            "File \u001b[0;32m~/.pyenv/versions/3.10.14/lib/python3.10/http/client.py:1038\u001b[0m, in \u001b[0;36mHTTPConnection._send_output\u001b[0;34m(self, message_body, encode_chunked)\u001b[0m\n\u001b[1;32m   1037\u001b[0m \u001b[38;5;28;01mdel\u001b[39;00m \u001b[38;5;28mself\u001b[39m\u001b[38;5;241m.\u001b[39m_buffer[:]\n\u001b[0;32m-> 1038\u001b[0m \u001b[38;5;28;43mself\u001b[39;49m\u001b[38;5;241;43m.\u001b[39;49m\u001b[43msend\u001b[49m\u001b[43m(\u001b[49m\u001b[43mmsg\u001b[49m\u001b[43m)\u001b[49m\n\u001b[1;32m   1040\u001b[0m \u001b[38;5;28;01mif\u001b[39;00m message_body \u001b[38;5;129;01mis\u001b[39;00m \u001b[38;5;129;01mnot\u001b[39;00m \u001b[38;5;28;01mNone\u001b[39;00m:\n\u001b[1;32m   1041\u001b[0m \n\u001b[1;32m   1042\u001b[0m     \u001b[38;5;66;03m# create a consistent interface to message_body\u001b[39;00m\n",
            "File \u001b[0;32m~/.pyenv/versions/3.10.14/lib/python3.10/http/client.py:976\u001b[0m, in \u001b[0;36mHTTPConnection.send\u001b[0;34m(self, data)\u001b[0m\n\u001b[1;32m    975\u001b[0m \u001b[38;5;28;01mif\u001b[39;00m \u001b[38;5;28mself\u001b[39m\u001b[38;5;241m.\u001b[39mauto_open:\n\u001b[0;32m--> 976\u001b[0m     \u001b[38;5;28;43mself\u001b[39;49m\u001b[38;5;241;43m.\u001b[39;49m\u001b[43mconnect\u001b[49m\u001b[43m(\u001b[49m\u001b[43m)\u001b[49m\n\u001b[1;32m    977\u001b[0m \u001b[38;5;28;01melse\u001b[39;00m:\n",
            "File \u001b[0;32m~/.pyenv/versions/3.10.14/lib/python3.10/http/client.py:1455\u001b[0m, in \u001b[0;36mHTTPSConnection.connect\u001b[0;34m(self)\u001b[0m\n\u001b[1;32m   1453\u001b[0m     server_hostname \u001b[38;5;241m=\u001b[39m \u001b[38;5;28mself\u001b[39m\u001b[38;5;241m.\u001b[39mhost\n\u001b[0;32m-> 1455\u001b[0m \u001b[38;5;28mself\u001b[39m\u001b[38;5;241m.\u001b[39msock \u001b[38;5;241m=\u001b[39m \u001b[38;5;28;43mself\u001b[39;49m\u001b[38;5;241;43m.\u001b[39;49m\u001b[43m_context\u001b[49m\u001b[38;5;241;43m.\u001b[39;49m\u001b[43mwrap_socket\u001b[49m\u001b[43m(\u001b[49m\u001b[38;5;28;43mself\u001b[39;49m\u001b[38;5;241;43m.\u001b[39;49m\u001b[43msock\u001b[49m\u001b[43m,\u001b[49m\n\u001b[1;32m   1456\u001b[0m \u001b[43m                                      \u001b[49m\u001b[43mserver_hostname\u001b[49m\u001b[38;5;241;43m=\u001b[39;49m\u001b[43mserver_hostname\u001b[49m\u001b[43m)\u001b[49m\n",
            "File \u001b[0;32m~/.pyenv/versions/3.10.14/lib/python3.10/ssl.py:513\u001b[0m, in \u001b[0;36mSSLContext.wrap_socket\u001b[0;34m(self, sock, server_side, do_handshake_on_connect, suppress_ragged_eofs, server_hostname, session)\u001b[0m\n\u001b[1;32m    507\u001b[0m \u001b[38;5;28;01mdef\u001b[39;00m\u001b[38;5;250m \u001b[39m\u001b[38;5;21mwrap_socket\u001b[39m(\u001b[38;5;28mself\u001b[39m, sock, server_side\u001b[38;5;241m=\u001b[39m\u001b[38;5;28;01mFalse\u001b[39;00m,\n\u001b[1;32m    508\u001b[0m                 do_handshake_on_connect\u001b[38;5;241m=\u001b[39m\u001b[38;5;28;01mTrue\u001b[39;00m,\n\u001b[1;32m    509\u001b[0m                 suppress_ragged_eofs\u001b[38;5;241m=\u001b[39m\u001b[38;5;28;01mTrue\u001b[39;00m,\n\u001b[1;32m    510\u001b[0m                 server_hostname\u001b[38;5;241m=\u001b[39m\u001b[38;5;28;01mNone\u001b[39;00m, session\u001b[38;5;241m=\u001b[39m\u001b[38;5;28;01mNone\u001b[39;00m):\n\u001b[1;32m    511\u001b[0m     \u001b[38;5;66;03m# SSLSocket class handles server_hostname encoding before it calls\u001b[39;00m\n\u001b[1;32m    512\u001b[0m     \u001b[38;5;66;03m# ctx._wrap_socket()\u001b[39;00m\n\u001b[0;32m--> 513\u001b[0m     \u001b[38;5;28;01mreturn\u001b[39;00m \u001b[38;5;28;43mself\u001b[39;49m\u001b[38;5;241;43m.\u001b[39;49m\u001b[43msslsocket_class\u001b[49m\u001b[38;5;241;43m.\u001b[39;49m\u001b[43m_create\u001b[49m\u001b[43m(\u001b[49m\n\u001b[1;32m    514\u001b[0m \u001b[43m        \u001b[49m\u001b[43msock\u001b[49m\u001b[38;5;241;43m=\u001b[39;49m\u001b[43msock\u001b[49m\u001b[43m,\u001b[49m\n\u001b[1;32m    515\u001b[0m \u001b[43m        \u001b[49m\u001b[43mserver_side\u001b[49m\u001b[38;5;241;43m=\u001b[39;49m\u001b[43mserver_side\u001b[49m\u001b[43m,\u001b[49m\n\u001b[1;32m    516\u001b[0m \u001b[43m        \u001b[49m\u001b[43mdo_handshake_on_connect\u001b[49m\u001b[38;5;241;43m=\u001b[39;49m\u001b[43mdo_handshake_on_connect\u001b[49m\u001b[43m,\u001b[49m\n\u001b[1;32m    517\u001b[0m \u001b[43m        \u001b[49m\u001b[43msuppress_ragged_eofs\u001b[49m\u001b[38;5;241;43m=\u001b[39;49m\u001b[43msuppress_ragged_eofs\u001b[49m\u001b[43m,\u001b[49m\n\u001b[1;32m    518\u001b[0m \u001b[43m        \u001b[49m\u001b[43mserver_hostname\u001b[49m\u001b[38;5;241;43m=\u001b[39;49m\u001b[43mserver_hostname\u001b[49m\u001b[43m,\u001b[49m\n\u001b[1;32m    519\u001b[0m \u001b[43m        \u001b[49m\u001b[43mcontext\u001b[49m\u001b[38;5;241;43m=\u001b[39;49m\u001b[38;5;28;43mself\u001b[39;49m\u001b[43m,\u001b[49m\n\u001b[1;32m    520\u001b[0m \u001b[43m        \u001b[49m\u001b[43msession\u001b[49m\u001b[38;5;241;43m=\u001b[39;49m\u001b[43msession\u001b[49m\n\u001b[1;32m    521\u001b[0m \u001b[43m    \u001b[49m\u001b[43m)\u001b[49m\n",
            "File \u001b[0;32m~/.pyenv/versions/3.10.14/lib/python3.10/ssl.py:1104\u001b[0m, in \u001b[0;36mSSLSocket._create\u001b[0;34m(cls, sock, server_side, do_handshake_on_connect, suppress_ragged_eofs, server_hostname, context, session)\u001b[0m\n\u001b[1;32m   1103\u001b[0m             \u001b[38;5;28;01mraise\u001b[39;00m \u001b[38;5;167;01mValueError\u001b[39;00m(\u001b[38;5;124m\"\u001b[39m\u001b[38;5;124mdo_handshake_on_connect should not be specified for non-blocking sockets\u001b[39m\u001b[38;5;124m\"\u001b[39m)\n\u001b[0;32m-> 1104\u001b[0m         \u001b[38;5;28;43mself\u001b[39;49m\u001b[38;5;241;43m.\u001b[39;49m\u001b[43mdo_handshake\u001b[49m\u001b[43m(\u001b[49m\u001b[43m)\u001b[49m\n\u001b[1;32m   1105\u001b[0m \u001b[38;5;28;01mexcept\u001b[39;00m (\u001b[38;5;167;01mOSError\u001b[39;00m, \u001b[38;5;167;01mValueError\u001b[39;00m):\n",
            "File \u001b[0;32m~/.pyenv/versions/3.10.14/lib/python3.10/ssl.py:1375\u001b[0m, in \u001b[0;36mSSLSocket.do_handshake\u001b[0;34m(self, block)\u001b[0m\n\u001b[1;32m   1374\u001b[0m         \u001b[38;5;28mself\u001b[39m\u001b[38;5;241m.\u001b[39msettimeout(\u001b[38;5;28;01mNone\u001b[39;00m)\n\u001b[0;32m-> 1375\u001b[0m     \u001b[38;5;28;43mself\u001b[39;49m\u001b[38;5;241;43m.\u001b[39;49m\u001b[43m_sslobj\u001b[49m\u001b[38;5;241;43m.\u001b[39;49m\u001b[43mdo_handshake\u001b[49m\u001b[43m(\u001b[49m\u001b[43m)\u001b[49m\n\u001b[1;32m   1376\u001b[0m \u001b[38;5;28;01mfinally\u001b[39;00m:\n",
            "\u001b[0;31mConnectionResetError\u001b[0m: [Errno 54] Connection reset by peer",
            "\nDuring handling of the above exception, another exception occurred:\n",
            "\u001b[0;31mURLError\u001b[0m                                  Traceback (most recent call last)",
            "Cell \u001b[0;32mIn[6], line 2\u001b[0m\n\u001b[1;32m      1\u001b[0m \u001b[38;5;66;03m# Needs Georepo API key, otherwise GADM \u001b[39;00m\n\u001b[0;32m----> 2\u001b[0m admin2_data \u001b[38;5;241m=\u001b[39m \u001b[43mAdminBoundaries\u001b[49m\u001b[38;5;241;43m.\u001b[39;49m\u001b[43mcreate\u001b[49m\u001b[43m(\u001b[49m\n\u001b[1;32m      3\u001b[0m \u001b[43m        \u001b[49m\u001b[43mcountry_code\u001b[49m\u001b[38;5;241;43m=\u001b[39;49m\u001b[43mcountry_code\u001b[49m\u001b[43m,\u001b[49m\u001b[43m \u001b[49m\u001b[43madmin_level\u001b[49m\u001b[38;5;241;43m=\u001b[39;49m\u001b[38;5;241;43m2\u001b[39;49m\n\u001b[1;32m      4\u001b[0m \u001b[43m    \u001b[49m\u001b[43m)\u001b[49m\u001b[38;5;241m.\u001b[39mto_geodataframe()\n",
            "File \u001b[0;32m~/Developer/UN-Tech-Over/gigaspatial/handlers/boundaries.py:248\u001b[0m, in \u001b[0;36mAdminBoundaries.create\u001b[0;34m(cls, country_code, admin_level, data_store, path, **kwargs)\u001b[0m\n\u001b[1;32m    245\u001b[0m     \u001b[38;5;28;01mexcept\u001b[39;00m \u001b[38;5;167;01mException\u001b[39;00m \u001b[38;5;28;01mas\u001b[39;00m e:\n\u001b[1;32m    246\u001b[0m         \u001b[38;5;28mcls\u001b[39m\u001b[38;5;241m.\u001b[39mlogger\u001b[38;5;241m.\u001b[39mwarning(\u001b[38;5;124mf\u001b[39m\u001b[38;5;124m\"\u001b[39m\u001b[38;5;124mGeoRepo error: \u001b[39m\u001b[38;5;132;01m{\u001b[39;00m\u001b[38;5;28mstr\u001b[39m(e)\u001b[38;5;132;01m}\u001b[39;00m\u001b[38;5;124m. Falling back to GADM.\u001b[39m\u001b[38;5;124m\"\u001b[39m)\n\u001b[0;32m--> 248\u001b[0m     \u001b[38;5;28;01mreturn\u001b[39;00m \u001b[38;5;28;43mcls\u001b[39;49m\u001b[38;5;241;43m.\u001b[39;49m\u001b[43mfrom_gadm\u001b[49m\u001b[43m(\u001b[49m\u001b[43miso3_code\u001b[49m\u001b[43m,\u001b[49m\u001b[43m \u001b[49m\u001b[43madmin_level\u001b[49m\u001b[43m,\u001b[49m\u001b[43m \u001b[49m\u001b[38;5;241;43m*\u001b[39;49m\u001b[38;5;241;43m*\u001b[39;49m\u001b[43mkwargs\u001b[49m\u001b[43m)\u001b[49m\n\u001b[1;32m    249\u001b[0m \u001b[38;5;28;01melse\u001b[39;00m:\n\u001b[1;32m    250\u001b[0m     \u001b[38;5;28;01mraise\u001b[39;00m \u001b[38;5;167;01mValueError\u001b[39;00m(\n\u001b[1;32m    251\u001b[0m         \u001b[38;5;124m\"\u001b[39m\u001b[38;5;124mEither country_code or (data_store, path) must be provided.\u001b[39m\u001b[38;5;124m\"\u001b[39m\n\u001b[1;32m    252\u001b[0m     )\n",
            "File \u001b[0;32m~/Developer/UN-Tech-Over/gigaspatial/handlers/boundaries.py:81\u001b[0m, in \u001b[0;36mAdminBoundaries.from_gadm\u001b[0;34m(cls, country_code, admin_level, **kwargs)\u001b[0m\n\u001b[1;32m     77\u001b[0m \u001b[38;5;28mcls\u001b[39m\u001b[38;5;241m.\u001b[39mlogger\u001b[38;5;241m.\u001b[39minfo(\n\u001b[1;32m     78\u001b[0m     \u001b[38;5;124mf\u001b[39m\u001b[38;5;124m\"\u001b[39m\u001b[38;5;124mLoading GADM data for country: \u001b[39m\u001b[38;5;132;01m{\u001b[39;00mcountry_code\u001b[38;5;132;01m}\u001b[39;00m\u001b[38;5;124m, admin level: \u001b[39m\u001b[38;5;132;01m{\u001b[39;00madmin_level\u001b[38;5;132;01m}\u001b[39;00m\u001b[38;5;124m from URL: \u001b[39m\u001b[38;5;132;01m{\u001b[39;00murl\u001b[38;5;132;01m}\u001b[39;00m\u001b[38;5;124m\"\u001b[39m\n\u001b[1;32m     79\u001b[0m )\n\u001b[1;32m     80\u001b[0m \u001b[38;5;28;01mtry\u001b[39;00m:\n\u001b[0;32m---> 81\u001b[0m     gdf \u001b[38;5;241m=\u001b[39m \u001b[43mgpd\u001b[49m\u001b[38;5;241;43m.\u001b[39;49m\u001b[43mread_file\u001b[49m\u001b[43m(\u001b[49m\u001b[43murl\u001b[49m\u001b[43m)\u001b[49m\n\u001b[1;32m     83\u001b[0m     gdf \u001b[38;5;241m=\u001b[39m \u001b[38;5;28mcls\u001b[39m\u001b[38;5;241m.\u001b[39m_map_fields(gdf, \u001b[38;5;124m\"\u001b[39m\u001b[38;5;124mgadm\u001b[39m\u001b[38;5;124m\"\u001b[39m, admin_level)\n\u001b[1;32m     85\u001b[0m     \u001b[38;5;28;01mif\u001b[39;00m admin_level \u001b[38;5;241m==\u001b[39m \u001b[38;5;241m0\u001b[39m:\n",
            "File \u001b[0;32m~/Developer/UN-Tech-Over/venv/lib/python3.10/site-packages/geopandas/io/file.py:301\u001b[0m, in \u001b[0;36m_read_file\u001b[0;34m(filename, bbox, mask, columns, rows, engine, **kwargs)\u001b[0m\n\u001b[1;32m    295\u001b[0m \u001b[38;5;28;01mif\u001b[39;00m _is_url(filename):\n\u001b[1;32m    296\u001b[0m     \u001b[38;5;66;03m# if it is a url that supports random access -> pass through to\u001b[39;00m\n\u001b[1;32m    297\u001b[0m     \u001b[38;5;66;03m# pyogrio/fiona as is (to support downloading only part of the file)\u001b[39;00m\n\u001b[1;32m    298\u001b[0m     \u001b[38;5;66;03m# otherwise still download manually because pyogrio/fiona don't support\u001b[39;00m\n\u001b[1;32m    299\u001b[0m     \u001b[38;5;66;03m# all types of urls (https://github.com/geopandas/geopandas/issues/2908)\u001b[39;00m\n\u001b[1;32m    300\u001b[0m     \u001b[38;5;28;01mtry\u001b[39;00m:\n\u001b[0;32m--> 301\u001b[0m         \u001b[38;5;28;01mwith\u001b[39;00m \u001b[43murllib\u001b[49m\u001b[38;5;241;43m.\u001b[39;49m\u001b[43mrequest\u001b[49m\u001b[38;5;241;43m.\u001b[39;49m\u001b[43murlopen\u001b[49m\u001b[43m(\u001b[49m\n\u001b[1;32m    302\u001b[0m \u001b[43m            \u001b[49m\u001b[43mRequest\u001b[49m\u001b[43m(\u001b[49m\u001b[43mfilename\u001b[49m\u001b[43m,\u001b[49m\u001b[43m \u001b[49m\u001b[43mheaders\u001b[49m\u001b[38;5;241;43m=\u001b[39;49m\u001b[43m{\u001b[49m\u001b[38;5;124;43m\"\u001b[39;49m\u001b[38;5;124;43mRange\u001b[39;49m\u001b[38;5;124;43m\"\u001b[39;49m\u001b[43m:\u001b[49m\u001b[43m \u001b[49m\u001b[38;5;124;43m\"\u001b[39;49m\u001b[38;5;124;43mbytes=0-1\u001b[39;49m\u001b[38;5;124;43m\"\u001b[39;49m\u001b[43m}\u001b[49m\u001b[43m)\u001b[49m\n\u001b[1;32m    303\u001b[0m \u001b[43m        \u001b[49m\u001b[43m)\u001b[49m \u001b[38;5;28;01mas\u001b[39;00m response:\n\u001b[1;32m    304\u001b[0m             \u001b[38;5;28;01mif\u001b[39;00m (\n\u001b[1;32m    305\u001b[0m                 response\u001b[38;5;241m.\u001b[39mheaders\u001b[38;5;241m.\u001b[39mget(\u001b[38;5;124m\"\u001b[39m\u001b[38;5;124mAccept-Ranges\u001b[39m\u001b[38;5;124m\"\u001b[39m) \u001b[38;5;241m==\u001b[39m \u001b[38;5;124m\"\u001b[39m\u001b[38;5;124mnone\u001b[39m\u001b[38;5;124m\"\u001b[39m\n\u001b[1;32m    306\u001b[0m                 \u001b[38;5;129;01mor\u001b[39;00m response\u001b[38;5;241m.\u001b[39mstatus \u001b[38;5;241m!=\u001b[39m HTTPStatus\u001b[38;5;241m.\u001b[39mPARTIAL_CONTENT\n\u001b[1;32m    307\u001b[0m             ):\n\u001b[1;32m    308\u001b[0m                 from_bytes \u001b[38;5;241m=\u001b[39m \u001b[38;5;28;01mTrue\u001b[39;00m\n",
            "File \u001b[0;32m~/.pyenv/versions/3.10.14/lib/python3.10/urllib/request.py:216\u001b[0m, in \u001b[0;36murlopen\u001b[0;34m(url, data, timeout, cafile, capath, cadefault, context)\u001b[0m\n\u001b[1;32m    214\u001b[0m \u001b[38;5;28;01melse\u001b[39;00m:\n\u001b[1;32m    215\u001b[0m     opener \u001b[38;5;241m=\u001b[39m _opener\n\u001b[0;32m--> 216\u001b[0m \u001b[38;5;28;01mreturn\u001b[39;00m \u001b[43mopener\u001b[49m\u001b[38;5;241;43m.\u001b[39;49m\u001b[43mopen\u001b[49m\u001b[43m(\u001b[49m\u001b[43murl\u001b[49m\u001b[43m,\u001b[49m\u001b[43m \u001b[49m\u001b[43mdata\u001b[49m\u001b[43m,\u001b[49m\u001b[43m \u001b[49m\u001b[43mtimeout\u001b[49m\u001b[43m)\u001b[49m\n",
            "File \u001b[0;32m~/.pyenv/versions/3.10.14/lib/python3.10/urllib/request.py:519\u001b[0m, in \u001b[0;36mOpenerDirector.open\u001b[0;34m(self, fullurl, data, timeout)\u001b[0m\n\u001b[1;32m    516\u001b[0m     req \u001b[38;5;241m=\u001b[39m meth(req)\n\u001b[1;32m    518\u001b[0m sys\u001b[38;5;241m.\u001b[39maudit(\u001b[38;5;124m'\u001b[39m\u001b[38;5;124murllib.Request\u001b[39m\u001b[38;5;124m'\u001b[39m, req\u001b[38;5;241m.\u001b[39mfull_url, req\u001b[38;5;241m.\u001b[39mdata, req\u001b[38;5;241m.\u001b[39mheaders, req\u001b[38;5;241m.\u001b[39mget_method())\n\u001b[0;32m--> 519\u001b[0m response \u001b[38;5;241m=\u001b[39m \u001b[38;5;28;43mself\u001b[39;49m\u001b[38;5;241;43m.\u001b[39;49m\u001b[43m_open\u001b[49m\u001b[43m(\u001b[49m\u001b[43mreq\u001b[49m\u001b[43m,\u001b[49m\u001b[43m \u001b[49m\u001b[43mdata\u001b[49m\u001b[43m)\u001b[49m\n\u001b[1;32m    521\u001b[0m \u001b[38;5;66;03m# post-process response\u001b[39;00m\n\u001b[1;32m    522\u001b[0m meth_name \u001b[38;5;241m=\u001b[39m protocol\u001b[38;5;241m+\u001b[39m\u001b[38;5;124m\"\u001b[39m\u001b[38;5;124m_response\u001b[39m\u001b[38;5;124m\"\u001b[39m\n",
            "File \u001b[0;32m~/.pyenv/versions/3.10.14/lib/python3.10/urllib/request.py:536\u001b[0m, in \u001b[0;36mOpenerDirector._open\u001b[0;34m(self, req, data)\u001b[0m\n\u001b[1;32m    533\u001b[0m     \u001b[38;5;28;01mreturn\u001b[39;00m result\n\u001b[1;32m    535\u001b[0m protocol \u001b[38;5;241m=\u001b[39m req\u001b[38;5;241m.\u001b[39mtype\n\u001b[0;32m--> 536\u001b[0m result \u001b[38;5;241m=\u001b[39m \u001b[38;5;28;43mself\u001b[39;49m\u001b[38;5;241;43m.\u001b[39;49m\u001b[43m_call_chain\u001b[49m\u001b[43m(\u001b[49m\u001b[38;5;28;43mself\u001b[39;49m\u001b[38;5;241;43m.\u001b[39;49m\u001b[43mhandle_open\u001b[49m\u001b[43m,\u001b[49m\u001b[43m \u001b[49m\u001b[43mprotocol\u001b[49m\u001b[43m,\u001b[49m\u001b[43m \u001b[49m\u001b[43mprotocol\u001b[49m\u001b[43m \u001b[49m\u001b[38;5;241;43m+\u001b[39;49m\n\u001b[1;32m    537\u001b[0m \u001b[43m                          \u001b[49m\u001b[38;5;124;43m'\u001b[39;49m\u001b[38;5;124;43m_open\u001b[39;49m\u001b[38;5;124;43m'\u001b[39;49m\u001b[43m,\u001b[49m\u001b[43m \u001b[49m\u001b[43mreq\u001b[49m\u001b[43m)\u001b[49m\n\u001b[1;32m    538\u001b[0m \u001b[38;5;28;01mif\u001b[39;00m result:\n\u001b[1;32m    539\u001b[0m     \u001b[38;5;28;01mreturn\u001b[39;00m result\n",
            "File \u001b[0;32m~/.pyenv/versions/3.10.14/lib/python3.10/urllib/request.py:496\u001b[0m, in \u001b[0;36mOpenerDirector._call_chain\u001b[0;34m(self, chain, kind, meth_name, *args)\u001b[0m\n\u001b[1;32m    494\u001b[0m \u001b[38;5;28;01mfor\u001b[39;00m handler \u001b[38;5;129;01min\u001b[39;00m handlers:\n\u001b[1;32m    495\u001b[0m     func \u001b[38;5;241m=\u001b[39m \u001b[38;5;28mgetattr\u001b[39m(handler, meth_name)\n\u001b[0;32m--> 496\u001b[0m     result \u001b[38;5;241m=\u001b[39m \u001b[43mfunc\u001b[49m\u001b[43m(\u001b[49m\u001b[38;5;241;43m*\u001b[39;49m\u001b[43margs\u001b[49m\u001b[43m)\u001b[49m\n\u001b[1;32m    497\u001b[0m     \u001b[38;5;28;01mif\u001b[39;00m result \u001b[38;5;129;01mis\u001b[39;00m \u001b[38;5;129;01mnot\u001b[39;00m \u001b[38;5;28;01mNone\u001b[39;00m:\n\u001b[1;32m    498\u001b[0m         \u001b[38;5;28;01mreturn\u001b[39;00m result\n",
            "File \u001b[0;32m~/.pyenv/versions/3.10.14/lib/python3.10/urllib/request.py:1391\u001b[0m, in \u001b[0;36mHTTPSHandler.https_open\u001b[0;34m(self, req)\u001b[0m\n\u001b[1;32m   1390\u001b[0m \u001b[38;5;28;01mdef\u001b[39;00m\u001b[38;5;250m \u001b[39m\u001b[38;5;21mhttps_open\u001b[39m(\u001b[38;5;28mself\u001b[39m, req):\n\u001b[0;32m-> 1391\u001b[0m     \u001b[38;5;28;01mreturn\u001b[39;00m \u001b[38;5;28;43mself\u001b[39;49m\u001b[38;5;241;43m.\u001b[39;49m\u001b[43mdo_open\u001b[49m\u001b[43m(\u001b[49m\u001b[43mhttp\u001b[49m\u001b[38;5;241;43m.\u001b[39;49m\u001b[43mclient\u001b[49m\u001b[38;5;241;43m.\u001b[39;49m\u001b[43mHTTPSConnection\u001b[49m\u001b[43m,\u001b[49m\u001b[43m \u001b[49m\u001b[43mreq\u001b[49m\u001b[43m,\u001b[49m\n\u001b[1;32m   1392\u001b[0m \u001b[43m        \u001b[49m\u001b[43mcontext\u001b[49m\u001b[38;5;241;43m=\u001b[39;49m\u001b[38;5;28;43mself\u001b[39;49m\u001b[38;5;241;43m.\u001b[39;49m\u001b[43m_context\u001b[49m\u001b[43m,\u001b[49m\u001b[43m \u001b[49m\u001b[43mcheck_hostname\u001b[49m\u001b[38;5;241;43m=\u001b[39;49m\u001b[38;5;28;43mself\u001b[39;49m\u001b[38;5;241;43m.\u001b[39;49m\u001b[43m_check_hostname\u001b[49m\u001b[43m)\u001b[49m\n",
            "File \u001b[0;32m~/.pyenv/versions/3.10.14/lib/python3.10/urllib/request.py:1351\u001b[0m, in \u001b[0;36mAbstractHTTPHandler.do_open\u001b[0;34m(self, http_class, req, **http_conn_args)\u001b[0m\n\u001b[1;32m   1348\u001b[0m         h\u001b[38;5;241m.\u001b[39mrequest(req\u001b[38;5;241m.\u001b[39mget_method(), req\u001b[38;5;241m.\u001b[39mselector, req\u001b[38;5;241m.\u001b[39mdata, headers,\n\u001b[1;32m   1349\u001b[0m                   encode_chunked\u001b[38;5;241m=\u001b[39mreq\u001b[38;5;241m.\u001b[39mhas_header(\u001b[38;5;124m'\u001b[39m\u001b[38;5;124mTransfer-encoding\u001b[39m\u001b[38;5;124m'\u001b[39m))\n\u001b[1;32m   1350\u001b[0m     \u001b[38;5;28;01mexcept\u001b[39;00m \u001b[38;5;167;01mOSError\u001b[39;00m \u001b[38;5;28;01mas\u001b[39;00m err: \u001b[38;5;66;03m# timeout error\u001b[39;00m\n\u001b[0;32m-> 1351\u001b[0m         \u001b[38;5;28;01mraise\u001b[39;00m URLError(err)\n\u001b[1;32m   1352\u001b[0m     r \u001b[38;5;241m=\u001b[39m h\u001b[38;5;241m.\u001b[39mgetresponse()\n\u001b[1;32m   1353\u001b[0m \u001b[38;5;28;01mexcept\u001b[39;00m:\n",
            "\u001b[0;31mURLError\u001b[0m: <urlopen error [Errno 54] Connection reset by peer>"
          ]
        }
      ],
      "source": [
        "# Needs Georepo API key, otherwise GADM \n",
        "admin2_data = AdminBoundaries.create(\n",
        "        country_code=country_code, admin_level=2\n",
        "    ).to_geodataframe()"
      ]
    },
    {
      "cell_type": "code",
      "execution_count": null,
      "metadata": {},
      "outputs": [],
      "source": [
        "admin2_data.head()"
      ]
    },
    {
      "attachments": {},
      "cell_type": "markdown",
      "metadata": {},
      "source": [
        "## Our view generator will be zonal"
      ]
    },
    {
      "cell_type": "code",
      "execution_count": null,
      "metadata": {},
      "outputs": [],
      "source": [
        "view_gen = GeometryBasedZonalViewGenerator(\n",
        "    zone_data = admin2_data,\n",
        "    zone_id_column = \"id\",\n",
        "    zone_data_crs = admin2_data.crs)"
      ]
    },
    {
      "attachments": {},
      "cell_type": "markdown",
      "metadata": {},
      "source": [
        "## We can now map ghsl built surface and smod"
      ]
    },
    {
      "cell_type": "code",
      "execution_count": null,
      "metadata": {},
      "outputs": [],
      "source": [
        "# we sum by defaul t\n",
        "view_gen.map_built_s()"
      ]
    },
    {
      "cell_type": "code",
      "execution_count": null,
      "metadata": {},
      "outputs": [],
      "source": [
        "# We do median by default\n",
        "view_gen.map_smod(year=2020, resolution=1000)"
      ]
    },
    {
      "attachments": {},
      "cell_type": "markdown",
      "metadata": {},
      "source": [
        "## We can now check our mapped data"
      ]
    },
    {
      "cell_type": "code",
      "execution_count": null,
      "metadata": {},
      "outputs": [],
      "source": [
        "view_gen.zone_gdf.head()"
      ]
    },
    {
      "cell_type": "code",
      "execution_count": null,
      "metadata": {},
      "outputs": [],
      "source": [
        "!{sys.executable} -m pip install folium matplotlib mapclassify"
      ]
    },
    {
      "cell_type": "code",
      "execution_count": null,
      "metadata": {},
      "outputs": [],
      "source": [
        "view_gen.zone_gdf.explore('built_surface_m2_sum')"
      ]
    },
    {
      "attachments": {},
      "cell_type": "markdown",
      "metadata": {},
      "source": [
        "# Example 2 - get schools and map them"
      ]
    },
    {
      "attachments": {},
      "cell_type": "markdown",
      "metadata": {},
      "source": [
        "## Create a giga school fetcher and fetch"
      ]
    },
    {
      "cell_type": "code",
      "execution_count": null,
      "metadata": {},
      "outputs": [],
      "source": [
        "gslf = GigaSchoolLocationFetcher(country=country_code) # Needs giga API key\n",
        "df_schools = gslf.fetch_locations()"
      ]
    },
    {
      "attachments": {},
      "cell_type": "markdown",
      "metadata": {},
      "source": [
        "## Map using base class function"
      ]
    },
    {
      "cell_type": "code",
      "execution_count": null,
      "metadata": {},
      "outputs": [],
      "source": [
        "result = view_gen.map_points(df_schools)\n",
        "view_gen._zone_gdf[\"school_count\"] = view_gen.zone_gdf.index.map(result)"
      ]
    },
    {
      "attachments": {},
      "cell_type": "markdown",
      "metadata": {},
      "source": [
        "### Or Extend ZonalViewGenerator"
      ]
    },
    {
      "cell_type": "code",
      "execution_count": null,
      "metadata": {},
      "outputs": [],
      "source": [
        "class GeometryBasedZonalViewGenerator(ZonalViewGenerator[T]):\n",
        "    ...\n",
        "\n",
        "    def map_school_counts(self,fetcher):\n",
        "        # Add logs and error control\n",
        "        df_schools = fetcher.fetch_locations()\n",
        "        result = view_gen.map_points(df_schools)\n",
        "        self._zone_gdf[\"school_count\"] = self._zone_gdf.index.map(result)"
      ]
    },
    {
      "attachments": {},
      "cell_type": "markdown",
      "metadata": {},
      "source": [
        "## Explore the result"
      ]
    },
    {
      "cell_type": "code",
      "execution_count": null,
      "metadata": {},
      "outputs": [],
      "source": [
        "view_gen.zone_gdf.head()"
      ]
    },
    {
      "cell_type": "code",
      "execution_count": null,
      "metadata": {},
      "outputs": [],
      "source": [
        "view_gen.zone_gdf.explore('school_count')"
      ]
    },
    {
      "attachments": {},
      "cell_type": "markdown",
      "metadata": {},
      "source": [
        "# Example 3 - Map population"
      ]
    },
    {
      "attachments": {},
      "cell_type": "markdown",
      "metadata": {},
      "source": [
        "## Initialize a Handler"
      ]
    },
    {
      "cell_type": "code",
      "execution_count": null,
      "metadata": {},
      "outputs": [],
      "source": [
        "ghs_pop_handler = GHSLDataHandler(product='GHS_POP')"
      ]
    },
    {
      "attachments": {},
      "cell_type": "markdown",
      "metadata": {},
      "source": [
        "## Map using geometry class function"
      ]
    },
    {
      "cell_type": "code",
      "execution_count": null,
      "metadata": {},
      "outputs": [],
      "source": [
        "view_gen.map_ghsl(\n",
        "            handler=ghs_pop_handler, stat=\"sum\", name_prefix=\"ghsl_pop_\"\n",
        "        )"
      ]
    },
    {
      "attachments": {},
      "cell_type": "markdown",
      "metadata": {},
      "source": [
        "### Or extend geometry class to add a new map_ghs_pop() function"
      ]
    },
    {
      "attachments": {},
      "cell_type": "markdown",
      "metadata": {},
      "source": [
        "## Explore"
      ]
    },
    {
      "cell_type": "code",
      "execution_count": null,
      "metadata": {},
      "outputs": [],
      "source": [
        "view_gen.zone_gdf.head()"
      ]
    },
    {
      "cell_type": "code",
      "execution_count": null,
      "metadata": {},
      "outputs": [],
      "source": [
        "view_gen.zone_gdf.explore('ghsl_pop_sum')"
      ]
    },
    {
      "cell_type": "code",
      "execution_count": null,
      "metadata": {},
      "outputs": [],
      "source": [
        "view_gen.zone_gdf['ccri_index'] = view_gen.zone_gdf[\"built_surface_m2_sum\"]\t+ view_gen.zone_gdf[\"smod_class_median\"] + view_gen.zone_gdf[\"school_count\"] + view_gen.zone_gdf[\"ghsl_pop_sum\"]"
      ]
    },
    {
      "cell_type": "code",
      "execution_count": null,
      "metadata": {},
      "outputs": [],
      "source": [
        "view_gen.zone_gdf.explore('ccri_index')"
      ]
    },
    {
      "attachments": {},
      "cell_type": "markdown",
      "metadata": {},
      "source": [
        "# Example 4 - Time Series"
      ]
    },
    {
      "attachments": {},
      "cell_type": "markdown",
      "metadata": {},
      "source": [
        "### Example using Modis Dataset from Kenya\n",
        "#### Ken_MODIS_LST_Day.tif\n",
        "##### https://opensource.unicc.org/open-source-united-initiative/un-tech-over/challenge-2/ge-puzzle-challenge2-datasets/-/tree/main/Kenya?ref_type=heads\n"
      ]
    },
    {
      "attachments": {},
      "cell_type": "markdown",
      "metadata": {},
      "source": [
        "### This is a stacked tiff file, with one band for each day of the year"
      ]
    },
    {
      "cell_type": "code",
      "execution_count": null,
      "metadata": {},
      "outputs": [],
      "source": [
        "tf = TifProcessor(dataset_path=\"./Ken_MODIS_LST_Day.tif\",mode='multi')"
      ]
    },
    {
      "cell_type": "code",
      "execution_count": null,
      "metadata": {},
      "outputs": [],
      "source": [
        "df_tf = tf.to_dataframe()"
      ]
    },
    {
      "cell_type": "code",
      "execution_count": null,
      "metadata": {},
      "outputs": [],
      "source": [
        "df_tf.head()"
      ]
    },
    {
      "attachments": {},
      "cell_type": "markdown",
      "metadata": {},
      "source": [
        "#### Although this has a certain resolution, we will treat it as points here and deal with map_points function for simplicity,\n",
        "#### but you could use/extend map_raster or create a zoned geodataframe and use map_polygons"
      ]
    },
    {
      "attachments": {},
      "cell_type": "markdown",
      "metadata": {},
      "source": [
        "### Let's get the admins and view generator for Kenya now"
      ]
    },
    {
      "cell_type": "code",
      "execution_count": null,
      "metadata": {},
      "outputs": [],
      "source": [
        "admin2_data_KEN = AdminBoundaries.create(\n",
        "        country_code=\"KEN\", admin_level=2\n",
        "    ).to_geodataframe()"
      ]
    },
    {
      "cell_type": "code",
      "execution_count": null,
      "metadata": {},
      "outputs": [],
      "source": [
        "view_gen_KEN = GeometryBasedZonalViewGenerator(\n",
        "    zone_data = admin2_data_KEN,\n",
        "    zone_id_column = \"id\",\n",
        "    zone_data_crs = admin2_data_KEN.crs)"
      ]
    },
    {
      "attachments": {},
      "cell_type": "markdown",
      "metadata": {},
      "source": [
        "### Now we can average each daily value on the admin 2 levels"
      ]
    },
    {
      "cell_type": "code",
      "execution_count": null,
      "metadata": {},
      "outputs": [],
      "source": [
        "### Let's just do 3 to illustrate\n",
        "mean_result = view_gen_KEN.map_points(points=df_tf, \n",
        "                                 value_columns=[\"2015_01_01_LST_Day_1km\", \"2015_01_02_LST_Day_1km\",\"2015_01_03_LST_Day_1km\"],\n",
        "                                 aggregation=\"mean\",\n",
        "                                 predicate=\"within\",)\n",
        "view_gen_KEN._zone_gdf[\"2015_01_01_LST_Day_1km_mean\"] = view_gen_KEN.zone_gdf.index.map(mean_result[\"2015_01_01_LST_Day_1km\"])\n",
        "view_gen_KEN._zone_gdf[\"2015_01_02_LST_Day_1km_mean\"] = view_gen_KEN.zone_gdf.index.map(mean_result[\"2015_01_02_LST_Day_1km\"])\n",
        "view_gen_KEN._zone_gdf[\"2015_01_03_LST_Day_1km_mean\"] = view_gen_KEN.zone_gdf.index.map(mean_result[\"2015_01_03_LST_Day_1km\"])"
      ]
    },
    {
      "cell_type": "code",
      "execution_count": null,
      "metadata": {},
      "outputs": [],
      "source": [
        "view_gen_KEN.zone_gdf.head()"
      ]
    },
    {
      "attachments": {},
      "cell_type": "markdown",
      "metadata": {},
      "source": [
        "### There is no implicit Time Series support currently, but you can calculate from your data source and use the result or extend the library!\n",
        "### For instance, imagine we want to calculate average skewness:"
      ]
    },
    {
      "cell_type": "code",
      "execution_count": null,
      "metadata": {},
      "outputs": [],
      "source": [
        "from scipy.stats import skew\n",
        "\n",
        "time_cols = []\n",
        "#Let's do a few days only for this\n",
        "for i in range(1,10):\n",
        "    time_cols.append(f\"2015_01_0{i}_LST_Day_1km\")\n",
        "\n"
      ]
    },
    {
      "cell_type": "code",
      "execution_count": null,
      "metadata": {},
      "outputs": [],
      "source": [
        "df_tf['skewness'] = skew(df_tf[time_cols].values, axis=1, bias=False)"
      ]
    },
    {
      "attachments": {},
      "cell_type": "markdown",
      "metadata": {},
      "source": [
        "#### Now we can map it"
      ]
    },
    {
      "cell_type": "code",
      "execution_count": null,
      "metadata": {},
      "outputs": [],
      "source": [
        "skew_result = view_gen_KEN.map_points(points=df_tf, \n",
        "                                 value_columns=[\"skewness\"],\n",
        "                                 aggregation=\"mean\",\n",
        "                                 predicate=\"within\",)\n"
      ]
    },
    {
      "cell_type": "code",
      "execution_count": null,
      "metadata": {},
      "outputs": [],
      "source": [
        "view_gen_KEN._zone_gdf[\"skewness_mean\"] = view_gen_KEN._zone_gdf.index.map(skew_result[\"skewness\"])"
      ]
    },
    {
      "attachments": {},
      "cell_type": "markdown",
      "metadata": {},
      "source": [
        "### Explore"
      ]
    },
    {
      "cell_type": "code",
      "execution_count": null,
      "metadata": {},
      "outputs": [],
      "source": [
        "view_gen_KEN._zone_gdf.head()"
      ]
    },
    {
      "cell_type": "code",
      "execution_count": null,
      "metadata": {},
      "outputs": [],
      "source": [
        "view_gen_KEN.zone_gdf.explore('skewness_mean')"
      ]
    },
    {
      "attachments": {},
      "cell_type": "markdown",
      "metadata": {},
      "source": [
        "### Core Architecture\n",
        "Giga Spatial is a geospatial data processing framework with three main components:\n",
        "\n",
        "- Handlers\n",
        "    - Purpose: Manage data access and processing for specific datasets (incl. coordinate system management)\n",
        "    - Key handlers include:\n",
        "        - GHSLDataHandler: For Global Human Settlement Layer data\n",
        "        - GoogleOpenBuildingsHandler: For Google's building footprint data\n",
        "        - MSBuildingsHandler: For Microsoft's building data\n",
        "        - GigaSchoolLocationFetcher: For school location data\n",
        "        - AdminBoundaries: For administrative boundary data\n",
        "- Generators\n",
        "    - Purpose: Create enriched views of geospatial data (inc spatial aggregation, data enrichment, statistical calculations)\n",
        "    - Two main types:\n",
        "        - ZonalViewGenerator: For area-based analysis\n",
        "            - map_points(): Maps point data to zones with spatial aggregation\n",
        "            - map_polygons(): Maps polygon data to zones with spatial aggregation\n",
        "            - map_rasters(): Maps raster data to zones using zonal statistics\n",
        "            - There are specific methods for mapping specific datasets (map_hgls(), map_google_buildings(), map_ms_buildings())\n",
        "        - PoiViewGenerator: For point-of-interest analysis (maps geospatial data to POIs)\n",
        "- Data Store\n",
        "    - Purpose: Manage data storage and retrieval\n",
        "    - Supports both local and remote data sources\n",
        "\n",
        "### Common Issues and Solutions\n",
        "- Authentication Issues\n",
        "    - Ensure API keys are properly set\n",
        "    - Check environment variables\n",
        "    - Verify credentials\n",
        "- Data Availability\n",
        "    - Use ensure_available=True to check data\n",
        "    - Verify data paths\n",
        "    - Check data permissions\n",
        "- Performance Issues\n",
        "    - Use appropriate data types\n",
        "    - Consider data resolution\n",
        "    - Leverage caching"
      ]
    },
    {
      "attachments": {},
      "cell_type": "markdown",
      "metadata": {},
      "source": []
    }
  ],
  "metadata": {
    "kernelspec": {
      "display_name": "venv",
      "language": "python",
      "name": "python3"
    },
    "language_info": {
      "codemirror_mode": {
        "name": "ipython",
        "version": 3
      },
      "file_extension": ".py",
      "mimetype": "text/x-python",
      "name": "python",
      "nbconvert_exporter": "python",
      "pygments_lexer": "ipython3",
      "version": "3.10.14"
    },
    "microsoft": {
      "ms_spell_check": {
        "ms_spell_check_language": "en"
      }
    },
    "nteract": {
      "version": "nteract-front-end@1.0.0"
    },
    "orig_nbformat": 4
  },
  "nbformat": 4,
  "nbformat_minor": 2
}
